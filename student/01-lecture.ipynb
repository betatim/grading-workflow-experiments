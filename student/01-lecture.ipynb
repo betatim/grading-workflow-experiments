{
 "cells": [
  {
   "cell_type": "markdown",
   "metadata": {},
   "source": [
    "STUDENT VERSION"
   ]
  },
  {
   "cell_type": "code",
   "execution_count": null,
   "metadata": {},
   "outputs": [],
   "source": [
    "# Don't remove or edit this cell, just execute it\n",
    "#from grading import check\n",
    "def check(path):\n",
    "    pass"
   ]
  },
  {
   "cell_type": "markdown",
   "metadata": {
    "nbgrader": {
     "grade": false,
     "grade_id": "hw4_instructions",
     "locked": true,
     "schema_version": 1,
     "solution": false
    }
   },
   "source": [
    "# Homework: lecture 1 (x points)\n",
    "\n",
    "To begin, answer the questions below:\n"
   ]
  },
  {
   "cell_type": "code",
   "execution_count": null,
   "metadata": {},
   "outputs": [],
   "source": [
    "# Packages and code used to make the grading work\n",
    "# Do not edit this, just execute it\n",
    "from ipywidgets import widgets"
   ]
  },
  {
   "cell_type": "markdown",
   "metadata": {},
   "source": [
    "## Question 1\n",
    "What is the best fruit? (Select one answer)"
   ]
  },
  {
   "cell_type": "code",
   "execution_count": null,
   "metadata": {
    "tags": [
     "q1"
    ]
   },
   "outputs": [],
   "source": [
    "# A multiple choice question. Students select one of the replies\n",
    "# the value they select will be available as `q1.value`\n",
    "# There are many more widgets https://ipywidgets.readthedocs.io/en/stable/index.html\n",
    "# that we could use to build simple questions that aren't code\n",
    "# We'd probably want to make a helper in one of the earthpy libraries\n",
    "# that removes some of the boilerplate?\n",
    "q1 = widgets.Select(\n",
    "    options=['Apples', 'Oranges', 'Pears', 'Banana', 'Chocolate'],\n",
    "    description='The best fruit is',\n",
    "    style={'description_width': 'initial'}\n",
    ")\n",
    "q1"
   ]
  },
  {
   "cell_type": "code",
   "execution_count": null,
   "metadata": {
    "tags": [
     "public",
     "q1"
    ]
   },
   "outputs": [],
   "source": [
    "check('01-lecture/q1-3e1e217.py')"
   ]
  },
  {
   "cell_type": "code",
   "execution_count": null,
   "metadata": {
    "tags": [
     "private",
     "q1"
    ]
   },
   "outputs": [],
   "source": [
    "check('01-lecture/q1-127a9f4.py')"
   ]
  },
  {
   "cell_type": "markdown",
   "metadata": {},
   "source": [
    "## Question 2\n",
    "\n",
    "We discussed sports at great length in the lecture. Select the best sports from the list below. (select one or more replies)"
   ]
  },
  {
   "cell_type": "code",
   "execution_count": null,
   "metadata": {
    "tags": [
     "q2"
    ]
   },
   "outputs": [],
   "source": [
    "# A multiple choice question. Students select one or more of the replies\n",
    "# the value(s) they select will be available as `q1.value`\n",
    "q2 = widgets.SelectMultiple(\n",
    "    options=['Eating', 'Running', 'Swimming', 'Cycling'],\n",
    "    description='The best sports are',\n",
    "    style={'description_width': 'initial'}\n",
    ")\n",
    "q2"
   ]
  },
  {
   "cell_type": "code",
   "execution_count": null,
   "metadata": {
    "tags": [
     "public",
     "q2"
    ]
   },
   "outputs": [],
   "source": [
    "check('01-lecture/q2-1234567.py')"
   ]
  },
  {
   "cell_type": "code",
   "execution_count": null,
   "metadata": {
    "tags": [
     "private",
     "q2"
    ]
   },
   "outputs": [],
   "source": [
    "check('01-lecture/q2-123456a.py')"
   ]
  },
  {
   "cell_type": "markdown",
   "metadata": {
    "tags": [
     "marks=10",
     "q3"
    ]
   },
   "source": [
    "## Question 3\n",
    "\n",
    "In the cell below answer the following question: Why should you combine chocolate with exercise? \n",
    "\n",
    "### YOUR ANSWER HERE"
   ]
  },
  {
   "cell_type": "markdown",
   "metadata": {},
   "source": [
    "## Plot 1: Roads Map and Legend (x points)  \n",
    "\n",
    "Create a map of California roads:\n",
    "\n",
    "Use the `madera-county-roads/tl_2013_06039_roads.shp` layer (located in your `spatial-vector-lidar` data folder that  you downloaded for class) to create a map that shows:\n",
    "\n",
    "1. the madera roads layer (`madera-county-roads/tl_2013_06039_roads.shp`), \n",
    "2. sjer plot locations (`vector_data/SJER_plot_centroids.shp`) and the \n",
    "3. sjer_aoi boundary (`sjer_crop.shp`)\n",
    "\n",
    "Create a map of California roads:\n",
    "\n",
    "1. Import the `madera-county-roads/tl_2013_06039_roads.shp` layer located in your `week_04` data download.\n",
    "2. Create a map that shows the madera roads layer, sjer plot locations and the sjer_aoi boundary (sjer_crop.shp).\n",
    "3. Plot the roads so different **road types** (using the RTTYP field) are represented using unique symbology. Use the `RTTYP` field to plot unique road types.\n",
    "4. Map the plot locations by the attribute **plot type** using unique symbology for each \"type\".\n",
    "4. Add a **title** to your plot.\n",
    "5. Adjust your plot legend so that the full name for each `RTTYP` name is clearly represented in your legend. HINT: You will need to consult the metadata for that layer to determine what each `RTTYP` type represents.\n",
    "6. Be sure that your plot legend is not covering your data.\n",
    "\n",
    "**IMPORTANT:** be sure that all of the data are within the same `EXTENT` and `crs` of the `sjer_aoi` layer. This means that you may have to crop and reproject your data prior to plotting it!"
   ]
  },
  {
   "cell_type": "code",
   "execution_count": null,
   "metadata": {
    "nbgrader": {
     "grade": false,
     "grade_id": "import_ans",
     "locked": false,
     "schema_version": 1,
     "solution": true
    }
   },
   "outputs": [],
   "source": [
    "# Import the libraries that you will need\n",
    "\n",
    "# The contents between the ### BEGIN and ### END tags will be removed\n",
    "# and replaced by `# Your code here`\n",
    "# no grading happens here\n",
    "\n",
    "# Your code here\n"
   ]
  },
  {
   "cell_type": "code",
   "execution_count": null,
   "metadata": {
    "tags": [
     "private",
     "q4"
    ]
   },
   "outputs": [],
   "source": [
    "# these will be hidden packages imported to run tests. Autograde is public. \n",
    "# earthanalytics is a private package designed to run tests for various courses\n",
    "import unittest\n",
    "import autograde.notebook as nb\n",
    "import matplotlib.pyplot as plt\n",
    "from earthanalytics.hw4_tests import homework4_tests"
   ]
  },
  {
   "cell_type": "markdown",
   "metadata": {},
   "source": [
    "The chunk above contains packages required for grading\n",
    "The chunk below is an example student answer. notice that here we have several different ways that a student may opt to plot. this is used to test how we grade different approaches to plottin."
   ]
  },
  {
   "cell_type": "code",
   "execution_count": null,
   "metadata": {
    "nbgrader": {
     "grade": false,
     "grade_id": "p1_ans",
     "locked": false,
     "schema_version": 1,
     "solution": true
    },
    "scrolled": false
   },
   "outputs": [],
   "source": [
    "### DO NOT REMOVE LINE BELOW ###\n",
    "# all results have to be assigned to a variable that has a\n",
    "# unique name and does not get reused in the notebook.\n",
    "q4_ax1 = nb.convert_axes(plt)"
   ]
  },
  {
   "cell_type": "code",
   "execution_count": null,
   "metadata": {
    "nbgrader": {
     "grade": true,
     "grade_id": "p1_tests",
     "locked": true,
     "points": 1,
     "schema_version": 1,
     "solution": false
    },
    "tags": [
     "q4",
     "private"
    ]
   },
   "outputs": [],
   "source": [
    "check('01-lecture/q4-433434a.py')"
   ]
  },
  {
   "cell_type": "code",
   "execution_count": null,
   "metadata": {},
   "outputs": [],
   "source": []
  }
 ],
 "metadata": {
  "celltoolbar": "Tags",
  "kernelspec": {
   "display_name": "Python 3",
   "language": "python",
   "name": "python3"
  },
  "language_info": {
   "codemirror_mode": {
    "name": "ipython",
    "version": 3
   },
   "file_extension": ".py",
   "mimetype": "text/x-python",
   "name": "python",
   "nbconvert_exporter": "python",
   "pygments_lexer": "ipython3",
   "version": "3.6.2"
  }
 },
 "nbformat": 4,
 "nbformat_minor": 2
}
