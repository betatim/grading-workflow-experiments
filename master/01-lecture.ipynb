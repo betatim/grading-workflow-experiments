{
 "cells": [
  {
   "cell_type": "markdown",
   "metadata": {
    "nbgrader": {
     "grade": false,
     "grade_id": "hw4_instructions",
     "locked": true,
     "schema_version": 1,
     "solution": false
    }
   },
   "source": [
    "# Homework: lecture 1 (x points)\n",
    "\n",
    "\n",
    "To begin, answer the questions below:\n"
   ]
  },
  {
   "cell_type": "code",
   "execution_count": 1,
   "metadata": {},
   "outputs": [],
   "source": [
    "# Packages and code used to make the grading work\n",
    "# Do not edit this, just execute it\n",
    "from ipywidgets import widgets\n",
    "from grading.ok import check\n",
    "#import autograde.notebook as nb\n",
    "#import matplotlib.pyplot as plt"
   ]
  },
  {
   "cell_type": "markdown",
   "metadata": {},
   "source": [
    "## Question 1\n",
    "What is the best fruit? (Select one answer)"
   ]
  },
  {
   "cell_type": "code",
   "execution_count": 16,
   "metadata": {
    "tags": [
     "q1"
    ]
   },
   "outputs": [
    {
     "data": {
      "application/vnd.jupyter.widget-view+json": {
       "model_id": "",
       "version_major": 2,
       "version_minor": 0
      },
      "text/plain": [
       "Select(description='The best fruit is', options=('Apples', 'Oranges', 'Pears', 'Banana', 'Chocolate'), style=D…"
      ]
     },
     "metadata": {},
     "output_type": "display_data"
    }
   ],
   "source": [
    "# A multiple choice question. Students select one of the replies\n",
    "# the value they select will be available as `q1.value`\n",
    "# There are many more widgets https://ipywidgets.readthedocs.io/en/stable/index.html\n",
    "# that we could use to build simple questions that aren't code\n",
    "# We'd probably want to make a helper in one of the earthpy libraries\n",
    "# that removes some of the boilerplate?\n",
    "q1 = widgets.Select(\n",
    "    options=['Apples', 'Oranges', 'Pears', 'Banana', 'Chocolate'],\n",
    "    description='The best fruit is',\n",
    "    style={'description_width': 'initial'}\n",
    ")\n",
    "q1"
   ]
  },
  {
   "cell_type": "code",
   "execution_count": 17,
   "metadata": {
    "tags": [
     "public",
     "q1"
    ]
   },
   "outputs": [],
   "source": [
    "# this will be a public test of the answer\n",
    "assert q1.value, \"You need to select one reply\""
   ]
  },
  {
   "cell_type": "code",
   "execution_count": 19,
   "metadata": {
    "tags": [
     "private",
     "q1"
    ]
   },
   "outputs": [],
   "source": [
    "# this will be a private test of the answer\n",
    "# Students won't be able to see this\n",
    "assert 'Chocolate' in q1.value, \"The best fruit is chocolate\""
   ]
  },
  {
   "cell_type": "markdown",
   "metadata": {},
   "source": [
    "## Question 2\n",
    "\n",
    "We discussed sports at great length in the lecture. Select the best sports from the list below. (select one or more replies)"
   ]
  },
  {
   "cell_type": "code",
   "execution_count": 20,
   "metadata": {
    "tags": [
     "q2"
    ]
   },
   "outputs": [
    {
     "data": {
      "application/vnd.jupyter.widget-view+json": {
       "model_id": "bb7599391fe24c57bc797819df379cce",
       "version_major": 2,
       "version_minor": 0
      },
      "text/plain": [
       "SelectMultiple(description='The best sports are', options=('Eating', 'Running', 'Swimming', 'Cycling'), style=…"
      ]
     },
     "metadata": {},
     "output_type": "display_data"
    }
   ],
   "source": [
    "# A multiple choice question. Students select one or more of the replies\n",
    "# the value(s) they select will be available as `q1.value`\n",
    "q2 = widgets.SelectMultiple(\n",
    "    options=['Eating', 'Running', 'Swimming', 'Cycling'],\n",
    "    description='The best sports are',\n",
    "    style={'description_width': 'initial'}\n",
    ")\n",
    "q2"
   ]
  },
  {
   "cell_type": "code",
   "execution_count": 17,
   "metadata": {
    "tags": [
     "public",
     "q2"
    ]
   },
   "outputs": [],
   "source": [
    "assert q2.value, \"You need to select at least one reply\""
   ]
  },
  {
   "cell_type": "code",
   "execution_count": 19,
   "metadata": {
    "tags": [
     "private",
     "q2"
    ]
   },
   "outputs": [],
   "source": [
    "# to compute credit that isn't 0/1 create a function\n",
    "# that returns a number, the credit achieved.\n",
    "# XXX is this the best way of doing this?\n",
    "def check_q2():\n",
    "    score = 0\n",
    "    if 'Cycling' not in q2.value:\n",
    "        print(\"Cycling is one of the best sports\")\n",
    "    else:\n",
    "        score += 1\n",
    "    if 'Running' not in q2.value:\n",
    "        print(\"Running is one of the best sports\")\n",
    "    else:\n",
    "        score += 1\n",
    "    if 'Swimming' not in q2.value:\n",
    "        print(\"Swimming is one of the best sports\")\n",
    "    else:\n",
    "        score += 1\n",
    "    return score"
   ]
  },
  {
   "cell_type": "markdown",
   "metadata": {
    "tags": [
     "marks=10",
     "q3"
    ]
   },
   "source": [
    "## Question 3\n",
    "\n",
    "In the cell below answer the following question: Why should you combine chocolate with exercise? \n",
    "\n",
    "### BEGIN ANSWER\n",
    "\n",
    "The model answer is written here. In the student notebook everything between the ### BEGIN and ### END tags will be removed and replaced by \"YOUR ANSWER HERE\"\n",
    "\n",
    "We have to tag this cell to specify how many marks the question is worth. This will be used during the manual grading somehow.\n",
    "\n",
    "### END ANSWER"
   ]
  },
  {
   "cell_type": "markdown",
   "metadata": {},
   "source": [
    "## Plot 1: Roads Map and Legend (x points)  \n",
    "\n",
    "Create a map of California roads:\n",
    "\n",
    "Use the `madera-county-roads/tl_2013_06039_roads.shp` layer (located in your `spatial-vector-lidar` data folder that  you downloaded for class) to create a map that shows:\n",
    "\n",
    "1. the madera roads layer (`madera-county-roads/tl_2013_06039_roads.shp`), \n",
    "2. sjer plot locations (`vector_data/SJER_plot_centroids.shp`) and the \n",
    "3. sjer_aoi boundary (`sjer_crop.shp`)\n",
    "\n",
    "Create a map of California roads:\n",
    "\n",
    "1. Import the `madera-county-roads/tl_2013_06039_roads.shp` layer located in your `week_04` data download.\n",
    "2. Create a map that shows the madera roads layer, sjer plot locations and the sjer_aoi boundary (sjer_crop.shp).\n",
    "3. Plot the roads so different **road types** (using the RTTYP field) are represented using unique symbology. Use the `RTTYP` field to plot unique road types.\n",
    "4. Map the plot locations by the attribute **plot type** using unique symbology for each \"type\".\n",
    "4. Add a **title** to your plot.\n",
    "5. Adjust your plot legend so that the full name for each `RTTYP` name is clearly represented in your legend. HINT: You will need to consult the metadata for that layer to determine what each `RTTYP` type represents.\n",
    "6. Be sure that your plot legend is not covering your data.\n",
    "\n",
    "**IMPORTANT:** be sure that all of the data are within the same `EXTENT` and `crs` of the `sjer_aoi` layer. This means that you may have to crop and reproject your data prior to plotting it!"
   ]
  },
  {
   "cell_type": "code",
   "execution_count": 2,
   "metadata": {
    "nbgrader": {
     "grade": false,
     "grade_id": "import_ans",
     "locked": false,
     "schema_version": 1,
     "solution": true
    }
   },
   "outputs": [],
   "source": [
    "# Import the libraries that you will need\n",
    "\n",
    "# The contents between the ### BEGIN and ### END tags will be removed\n",
    "# and replaced by `# Your code here`\n",
    "# no grading happens here\n",
    "\n",
    "### BEGIN SOLUTION\n",
    "import os\n",
    "import earthpy as et\n",
    "import numpy as np\n",
    "import pandas as pd\n",
    "import geopandas as gpd\n",
    "import matplotlib\n",
    "from shapely.geometry import box\n",
    "from matplotlib.colors import ListedColormap, BoundaryNorm\n",
    "from matplotlib.patches import Patch\n",
    "from matplotlib.lines import Line2D\n",
    "import shapely\n",
    "### END SOLUTION\n"
   ]
  },
  {
   "cell_type": "markdown",
   "metadata": {},
   "source": [
    "The chunk above contains packages required for grading\n",
    "The chunk below is an example student answer. notice that here we have several different ways that a student may opt to plot. this is used to test how we grade different approaches to plottin."
   ]
  },
  {
   "cell_type": "code",
   "execution_count": null,
   "metadata": {
    "nbgrader": {
     "grade": false,
     "grade_id": "p1_ans",
     "locked": false,
     "schema_version": 1,
     "solution": true
    },
    "tags": [
     "q4",
     "answer"
    ]
   },
   "outputs": [],
   "source": [
    "# Cell's tagged as \"answer\" are removed from the student version, they will not\n",
    "# form part of what the autograder adds to a student's notebook during\n",
    "# the grading process. They will be visible to a manual grader\n",
    "\n",
    "# set home directory and download data\n",
    "os.chdir(os.path.join(et.io.HOME, 'earth-analytics'))\n",
    "path_data = et.data.get_data('spatial-vector-lidar')\n",
    "\n",
    "# Import data\n",
    "sjer_aoi = gpd.read_file(\n",
    "    'data/spatial-vector-lidar/california/neon-sjer-site/vector_data/SJER_crop.shp')\n",
    "sjer_roads = gpd.read_file(\n",
    "    'data/spatial-vector-lidar/california/madera-county-roads/tl_2013_06039_roads.shp')\n",
    "sjer_plots = gpd.read_file(\n",
    "    'data/spatial-vector-lidar/california/neon-sjer-site/vector_data/SJER_plot_centroids.shp')\n",
    "\n",
    "# replace roads with a missing RTTYP value with \"Unknown\"\n",
    "sjer_roads = sjer_roads.replace(\n",
    "    {'RTTYP': {'': \"Unknown\", 'C': 'County', 'S': 'State Recognized', 'M': 'Common Name'}})\n",
    "\n",
    "# reproject roads and plot data\n",
    "sjer_roads = sjer_roads.to_crs(sjer_aoi.crs)\n",
    "\n",
    "# crop the data\n",
    "sjer_roads['geometry'] = sjer_roads.geometry.intersection(\n",
    "    box(*sjer_aoi.total_bounds))\n",
    "sjer_roads = sjer_roads[sjer_roads['geometry'].is_empty == False].reset_index(drop=True)\n",
    "\n",
    "# VARIOUS WAYS TO PLOT DATA\n",
    "fig, ax = plt.subplots(figsize=(10, 10))\n",
    "ax.set_axis_off()\n",
    "case = 1\n",
    "\n",
    "\n",
    "if case == 1:\n",
    "    # set colors and label names\n",
    "    roadPalette = {'Common Name': 'black', 'State Recognized': 'blue',\n",
    "                   'County': 'grey', 'Unknown': 'lightgrey'}\n",
    "    linestyle_dict = {'Common Name': ':', 'State Recognized': '--',\n",
    "                   'Unknown': '-.'}\n",
    "    pointsPalette = {'trees': 'chartreuse',\n",
    "                     'grass': 'darkgreen', 'soil': 'burlywood'}\n",
    "    marker_dict = {'trees': '+', 'grass': '*', 'soil': 'o'}\n",
    "\n",
    "    # plot data\n",
    "    for plot_type, data in sjer_plots.groupby('plot_type'):\n",
    "        data.plot(color=pointsPalette[plot_type], ax=ax, label=plot_type,\n",
    "                  markersize=50, marker=marker_dict[plot_type])\n",
    "    for road_type, data in sjer_roads.groupby('RTTYP'):\n",
    "        data.plot(color=roadPalette[road_type], ax=ax,\n",
    "                  label=road_type, linestyle = linestyle_dict[road_type])\n",
    "    #ax.legend(loc=(1.1, .1),prop={'size': 16}, frameon=False)\n",
    "    \n",
    "if case == 2:\n",
    "    # set colors and label names\n",
    "    point_colors = ['darkgreen', 'burlywood', 'chartreuse']\n",
    "    point_labels = ['grass', 'soil', 'trees']\n",
    "    line_colors = ['black', 'blue', 'lightgrey']\n",
    "    line_labels = ['Common Name', 'State Recognized', 'Unknown']\n",
    "\n",
    "        # plot points and roads\n",
    "    sjer_plots.plot(ax=ax, column='plot_type', cmap=ListedColormap(point_colors), legend = True)\n",
    "    sjer_roads.plot(ax=ax, column='RTTYP', cmap=ListedColormap(line_colors), linestyle = 'None', legend = True)\n",
    "\n",
    "    \n",
    "    # create legend\n",
    "    point_types = [Line2D([0], [0], marker = 'o', color=c, linestyle = 'None', \n",
    "                      markersize=10) for c in point_colors]\n",
    "    line_types = [Line2D([0], [0], color=c) for c in line_colors]\n",
    "    leg1 = ax.legend(point_types, point_labels, loc=(1.1, .3), title='Plot Type', prop={'size': 16}, frameon=False)\n",
    "    leg2 = ax.legend(line_types, line_labels, loc=(1.1, .1), title='Road Type', prop={'size': 16}, frameon=False)\n",
    "    ax.add_artist(leg1)\n",
    "    plt.setp(leg2.get_title(), fontsize='15')\n",
    "    plt.setp(leg1.get_title(), fontsize='15')\n",
    "    \n",
    "# add title and legend details\n",
    "ax.set(title= 'Homework Plot 1: \\nMadera County Roads and study plot locations')"
   ]
  },
  {
   "cell_type": "code",
   "execution_count": 5,
   "metadata": {
    "nbgrader": {
     "grade": false,
     "grade_id": "p1_ans",
     "locked": false,
     "schema_version": 1,
     "solution": true
    },
    "scrolled": false
   },
   "outputs": [
    {
     "data": {
      "image/png": "[encoded data removed]",
      "text/plain": [
       "<Figure size 720x720 with 1 Axes>"
      ]
     },
     "metadata": {},
     "output_type": "display_data"
    }
   ],
   "source": [
    "### DO NOT REMOVE LINE BELOW ###\n",
    "# all results have to be assigned to a variable that has a\n",
    "# unique name and does not get reused in the notebook.\n",
    "q4_ax1 = nb.convert_axes(plt)"
   ]
  },
  {
   "cell_type": "code",
   "execution_count": 6,
   "metadata": {
    "nbgrader": {
     "grade": true,
     "grade_id": "p1_tests",
     "locked": true,
     "points": 1,
     "schema_version": 1,
     "solution": false
    },
    "tags": [
     "q4",
     "private"
    ]
   },
   "outputs": [
    {
     "name": "stderr",
     "output_type": "stream",
     "text": [
      "s.ssF....s.s\n",
      "======================================================================\n",
      "FAIL: test_legend_labels (autograde.cases.PlotBasicSuite.__init__.<locals>.LegendTest)\n",
      "----------------------------------------------------------------------\n",
      "Traceback (most recent call last):\n",
      "  File \"/Users/lewa8222/anaconda3/envs/earth-analytics-python/lib/python3.6/site-packages/autograde/cases.py\", line 94, in test_legend_labels\n",
      "    self.pt.assert_legend_labels(labels_exp=legend_labels)\n",
      "  File \"/Users/lewa8222/anaconda3/envs/earth-analytics-python/lib/python3.6/site-packages/autograde/base.py\", line 277, in assert_legend_labels\n",
      "    assert legends, 'Legend does not exist'\n",
      "AssertionError: Legend does not exist\n",
      "\n",
      "----------------------------------------------------------------------\n",
      "Ran 12 tests in 0.486s\n",
      "\n",
      "FAILED (failures=1, skipped=5)\n"
     ]
    }
   ],
   "source": [
    "# Test Suite for Plot 1\n",
    "# currently i want more verbose but also cleaner feedback.\n",
    "# note that above i commented out the legend. and the legend tests thus failed.\n",
    "# i'd like a very user friendly feedback block with the tests that passed vs failed. \n",
    "# below is ugly and scary but it does work!\n",
    "\n",
    "# this test has to be private as it depends on code from `earthanalytics`\n",
    "# which is a private package\n",
    "from earthanalytics.hw4_tests import homework4_tests\n",
    "hw4t = homework4_tests()\n",
    "results = unittest.TextTestRunner().run(hw4t.p1_tests(q4_ax1))"
   ]
  }
 ],
 "metadata": {
  "celltoolbar": "Tags",
  "kernelspec": {
   "display_name": "Python 3",
   "language": "python",
   "name": "python3"
  },
  "language_info": {
   "codemirror_mode": {
    "name": "ipython",
    "version": 3
   },
   "file_extension": ".py",
   "mimetype": "text/x-python",
   "name": "python",
   "nbconvert_exporter": "python",
   "pygments_lexer": "ipython3",
   "version": "3.6.2"
  }
 },
 "nbformat": 4,
 "nbformat_minor": 2
}
